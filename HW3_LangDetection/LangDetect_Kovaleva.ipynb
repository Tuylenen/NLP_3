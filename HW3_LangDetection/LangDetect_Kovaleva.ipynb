{
 "cells": [
  {
   "cell_type": "markdown",
   "metadata": {},
   "source": [
    "Выполнила: Ковалева Оксана, БКЛ151"
   ]
  },
  {
   "cell_type": "code",
   "execution_count": 1,
   "metadata": {
    "collapsed": true
   },
   "outputs": [],
   "source": [
    "import warnings\n",
    "warnings.filterwarnings(\"ignore\")"
   ]
  },
  {
   "cell_type": "markdown",
   "metadata": {},
   "source": [
    "Определение языка (language detection)\n",
    "--------------------\n",
    "\n",
    "* **Множество случаев** — тексты на разных языках\n",
    "* **Множество классов** — языки"
   ]
  },
  {
   "cell_type": "markdown",
   "metadata": {},
   "source": [
    "В качестве корпусов и текстов для тестирования будем использовать статьи Википедии на разных языках. Скачать Википедию можно различными способами:"
   ]
  },
  {
   "cell_type": "markdown",
   "metadata": {},
   "source": [
    "* дампы википедии: https://dumps.wikimedia.org/backup-index.html\n",
    "\n",
    "* wikiextractor: http://medialab.di.unipi.it/wiki/Wikipedia_Extractor\n",
    "\n",
    "* annotated_wikiextractor: https://github.com/jodaiber/Annotated-WikiExtractor\n",
    "\n",
    "* wikipedia: https://pypi.python.org/pypi/wikipedia/"
   ]
  },
  {
   "cell_type": "markdown",
   "metadata": {},
   "source": [
    "#### Скачаем тексты\n",
    "Воспользуемся пакетом *wikipedia*:\n",
    "\n",
    "`pip install wikipedia`"
   ]
  },
  {
   "cell_type": "code",
   "execution_count": 2,
   "metadata": {
    "collapsed": true
   },
   "outputs": [],
   "source": [
    "def get_texts_for_lang(lang, n=10):\n",
    "    '''\n",
    "    Функция для скачивания статей из википедии на определенном языке\n",
    "    '''\n",
    "    wikipedia.set_lang(lang)\n",
    "    wiki_content = []\n",
    "    pages = wikipedia.random(n)\n",
    "    for page_name in pages:\n",
    "        try:\n",
    "            page = wikipedia.page(page_name)\n",
    "        except wikipedia.exceptions.WikipediaException:\n",
    "            print('Skipping page {}'.format(page_name))\n",
    "            continue\n",
    "\n",
    "        wiki_content.append('{}\\n{}'.format(page.title, page.content.replace('==', '')))\n",
    "\n",
    "    return wiki_content"
   ]
  },
  {
   "cell_type": "code",
   "execution_count": 3,
   "metadata": {
    "collapsed": true
   },
   "outputs": [],
   "source": [
    "langs = ['kk', 'uk', 'be', 'fr', 'de', 'it', 'ru']\n",
    "\n",
    "import wikipedia\n",
    "import time\n",
    "\n",
    "def get_texts(langs, n_docs=100):\n",
    "    '''\n",
    "    Функция для скачивания определенного количества статей для нескольких языков\n",
    "    args:\n",
    "        n_docs: число статей для скачивания\n",
    "        langs: языки\n",
    "    '''\n",
    "    t0 = time.time()\n",
    "\n",
    "    wiki_texts = {}\n",
    "    \n",
    "    for lang in langs: \n",
    "        wiki_texts[lang] = get_texts_for_lang(lang, n_docs)\n",
    "        print(lang, len(wiki_texts[lang]))\n",
    "        \n",
    "    print('\\nTime passed: ', round((time.time()-t0)/60, 2), 'min') \n",
    "    \n",
    "    return wiki_texts "
   ]
  },
  {
   "cell_type": "code",
   "execution_count": 4,
   "metadata": {},
   "outputs": [
    {
     "name": "stdout",
     "output_type": "stream",
     "text": [
      "Skipping page Сарытерек ауылдық округі\n",
      "kk 99\n",
      "Skipping page Славина\n",
      "Skipping page Зубрівка (значення)\n",
      "Skipping page Добробут (значення)\n",
      "Skipping page Ґірінайчяй\n",
      "Skipping page Бретяк\n",
      "Skipping page Золотуха (значення)\n",
      "Skipping page Лісківська сільська рада\n",
      "Skipping page Чоленешть\n",
      "Skipping page Сакура (значення)\n",
      "Skipping page Іллюшко\n",
      "Skipping page Провулок Плещеєва\n",
      "Skipping page СІДЕ\n",
      "Skipping page Інасікі\n",
      "uk 87\n",
      "Skipping page Чарнічнае\n",
      "Skipping page Шэйка\n",
      "Skipping page Аўгустова\n",
      "Skipping page Глядкі (прыпыначны пункт)\n",
      "Skipping page Междурэчанск\n",
      "Skipping page Чырвоны Бор\n",
      "be 94\n",
      "Skipping page Route 373\n",
      "Skipping page HLM\n",
      "Skipping page Rottenberg\n",
      "Skipping page Silovs\n",
      "Skipping page Alberndorf\n",
      "fr 95\n",
      "Skipping page Ahnapee\n",
      "Skipping page CKT\n",
      "Skipping page Cerbu\n",
      "Skipping page Bundesamt für Zivilschutz\n",
      "Skipping page Verreaux\n",
      "Skipping page Art Lake\n",
      "Skipping page Rudolf Fritz\n",
      "Skipping page Passagieren\n",
      "Skipping page Waterville Township\n",
      "Skipping page Diensbach\n",
      "Skipping page Gizzi\n",
      "de 89\n",
      "Skipping page Soluzione sei\n",
      "Skipping page Giornata della vittoria\n",
      "it 98\n",
      "Skipping page Калинин, Степан\n",
      "Skipping page Теза\n",
      "Skipping page Ерофеев, Михаил\n",
      "Skipping page Великовский\n",
      "Skipping page Петля Ориона\n",
      "Skipping page Осинский район\n",
      "Skipping page Маншино\n",
      "Skipping page AIC\n",
      "Skipping page Окерблад\n",
      "Skipping page Поккельс\n",
      "Skipping page Серангун (значения)\n",
      "Skipping page Мустафин\n",
      "Skipping page Боз (Boze)\n",
      "Skipping page Евном\n",
      "ru 86\n",
      "\n",
      "Time passed:  26.04 min\n"
     ]
    }
   ],
   "source": [
    "wiki_texts = get_texts(langs, 100)"
   ]
  },
  {
   "cell_type": "markdown",
   "metadata": {},
   "source": [
    "### Первый метод: частотные слова"
   ]
  },
  {
   "cell_type": "markdown",
   "metadata": {},
   "source": [
    "#### Немного теории"
   ]
  },
  {
   "cell_type": "markdown",
   "metadata": {},
   "source": [
    "Очень простой и неплохой по качеству метод. Сначала создаем частотный словарь для всех языков и берем самые частотные слова. После этого для каждого текста, который нам надо расклассифицировать, смотрим, частотных слов какого языка в нем больше - тот язык и выбираем.\n",
    "\n",
    "Метод неплохо работает на текстах длиннее 50 слов и быстро имлементируется. "
   ]
  },
  {
   "cell_type": "markdown",
   "metadata": {},
   "source": [
    "#### Выведем частотный список слов:"
   ]
  },
  {
   "cell_type": "code",
   "execution_count": 5,
   "metadata": {
    "collapsed": true
   },
   "outputs": [],
   "source": [
    "import codecs\n",
    "import collections\n",
    "import sys\n",
    "import re\n",
    "from nltk.tokenize import RegexpTokenizer\n",
    "tokenizer = RegexpTokenizer('\\w+')\n",
    "\n",
    "def freq_words(lang):\n",
    "    '''\n",
    "    Составим список частотности слов для конкретного языка\n",
    "    '''\n",
    "    global wiki_texts\n",
    "    \n",
    "    freqs = collections.defaultdict(lambda: 0)\n",
    "    \n",
    "    corpus = wiki_texts[lang]\n",
    "    for article in corpus:\n",
    "        for word in tokenizer.tokenize(article.replace('\\n', '').lower()):\n",
    "            freqs[word] += 1\n",
    "    \n",
    "    return freqs"
   ]
  },
  {
   "cell_type": "code",
   "execution_count": 6,
   "metadata": {
    "collapsed": true
   },
   "outputs": [],
   "source": [
    "from copy import deepcopy\n",
    "\n",
    "def create_dict(n):\n",
    "    '''\n",
    "    Вернем объединенный список частотных слов\n",
    "    n: количество топовых слов\n",
    "    '''\n",
    "    words = collections.defaultdict(dict)\n",
    "    \n",
    "    # создадим общий список частотных слов в формате \n",
    "    # {слово : [языки, где это слово встречается]}\n",
    "    global wiki_texts\n",
    "    \n",
    "    for lang in wiki_texts:\n",
    "        freqs = freq_words(lang)\n",
    "        for word in sorted(freqs, key=lambda w: freqs[w], reverse=True)[:n]:\n",
    "            if not word.isdigit(): \n",
    "                if words[word]:\n",
    "                    words[word].append(lang)\n",
    "                else:\n",
    "                    words[word] = [lang]\n",
    "    \n",
    "    # отфильтруем общие для разных языков слова\n",
    "    for i in deepcopy(words):\n",
    "        if len(words[i]) > 1:\n",
    "            del words[i]\n",
    "        \n",
    "    return words"
   ]
  },
  {
   "cell_type": "markdown",
   "metadata": {},
   "source": [
    "#### Классификация:"
   ]
  },
  {
   "cell_type": "code",
   "execution_count": 7,
   "metadata": {
    "scrolled": false
   },
   "outputs": [],
   "source": [
    "words = create_dict(100)"
   ]
  },
  {
   "cell_type": "code",
   "execution_count": 8,
   "metadata": {
    "collapsed": true
   },
   "outputs": [],
   "source": [
    "def lang_det_1(text):\n",
    "    global words\n",
    "    global langs\n",
    "    \n",
    "    number_of_words = [0 for i in range(len(langs))]\n",
    "    \n",
    "    for word in tokenizer.tokenize(text):\n",
    "        if word in words:\n",
    "            index = langs.index(words[word][0])\n",
    "            number_of_words[index] += 1\n",
    "\n",
    "    return (langs[number_of_words.index(max(number_of_words))])"
   ]
  },
  {
   "cell_type": "markdown",
   "metadata": {},
   "source": [
    "### Второй метод: частотные символьные n-граммы"
   ]
  },
  {
   "cell_type": "markdown",
   "metadata": {},
   "source": [
    "Создадим функцию, которая преобразовывает строку в массив n-грамм заданной длины."
   ]
  },
  {
   "cell_type": "code",
   "execution_count": 28,
   "metadata": {
    "collapsed": true
   },
   "outputs": [],
   "source": [
    "from itertools import islice, tee\n",
    "\n",
    "def make_ngrams(text):\n",
    "    N = 3 # задаем длину n-граммы\n",
    "    ngrams = zip(*(islice(seq, index, None) for index, seq in enumerate(tee(text, N))))\n",
    "    ngrams = [''.join(x) for x in ngrams]\n",
    "    return ngrams"
   ]
  },
  {
   "cell_type": "markdown",
   "metadata": {},
   "source": [
    "Теперь создадим частотные словари n-грамм аналогично первому методу."
   ]
  },
  {
   "cell_type": "code",
   "execution_count": 10,
   "metadata": {},
   "outputs": [],
   "source": [
    "def freq_ngrams(lang):\n",
    "    '''\n",
    "    Составим список частотных ngram для конкретного языка\n",
    "    '''\n",
    "    global wiki_texts\n",
    "    \n",
    "    freqs_n_grams = collections.defaultdict(lambda: 0)\n",
    "    \n",
    "    corpus = wiki_texts[lang]\n",
    "    for article in corpus:\n",
    "        for ngram in make_ngrams(article.replace('\\n', '').lower()):\n",
    "            freqs_n_grams[ngram] += 1\n",
    "    \n",
    "    return freqs_n_grams\n",
    "\n",
    "\n",
    "\n",
    "def create_ngrams_dict(n):\n",
    "    '''\n",
    "    Вернем объединенный список ngram\n",
    "    n: количество топовых n-gram\n",
    "    '''\n",
    "    n_grams = collections.defaultdict(dict)\n",
    "    \n",
    "    global wiki_texts\n",
    "    \n",
    "    for lang in wiki_texts:\n",
    "        freqs = freq_ngrams(lang)\n",
    "        for ngram in sorted(freqs, key=lambda n: freqs[n], reverse=True)[:n]:\n",
    "            if n_grams[ngram]:\n",
    "                n_grams[ngram].append(lang)\n",
    "            else:\n",
    "                n_grams[ngram] = [lang]\n",
    "    \n",
    "    # отфильтруем общие для разных языков ngram\n",
    "    for i in deepcopy(n_grams):\n",
    "        if len(n_grams[i]) > 1:\n",
    "            del n_grams[i]\n",
    "        \n",
    "    return n_grams"
   ]
  },
  {
   "cell_type": "markdown",
   "metadata": {},
   "source": [
    "Теперь, как и в предыдущем методе, можно загружать готовые частотные словари n-грамм и классифицировать тексты, просто подсчитывая частотные n-граммы в каждом."
   ]
  },
  {
   "cell_type": "code",
   "execution_count": 11,
   "metadata": {
    "collapsed": true
   },
   "outputs": [],
   "source": [
    "n_grams = create_ngrams_dict(100)"
   ]
  },
  {
   "cell_type": "code",
   "execution_count": 12,
   "metadata": {
    "collapsed": true
   },
   "outputs": [],
   "source": [
    "def lang_det_2(text):\n",
    "    global n_grams\n",
    "    global langs\n",
    "    \n",
    "    number_of_ngrams = [0 for i in range(len(langs))]\n",
    "    \n",
    "    for ngram in make_ngrams(text):\n",
    "        if ngram in n_grams:\n",
    "            index = langs.index(n_grams[ngram][0])\n",
    "            number_of_ngrams[index] += 1\n",
    "               \n",
    "    return (langs[number_of_ngrams.index(max(number_of_ngrams))])"
   ]
  },
  {
   "cell_type": "markdown",
   "metadata": {},
   "source": [
    "### Результаты:"
   ]
  },
  {
   "cell_type": "markdown",
   "metadata": {},
   "source": [
    "Скачаем несколько текстов для проверки:"
   ]
  },
  {
   "cell_type": "code",
   "execution_count": 14,
   "metadata": {},
   "outputs": [
    {
     "name": "stdout",
     "output_type": "stream",
     "text": [
      "kk 50\n",
      "Skipping page Бюро (значення)\n",
      "Skipping page Абдулов\n",
      "Skipping page Деркачівська волость\n",
      "Skipping page Немильня\n",
      "uk 46\n",
      "Skipping page Друцк (значэнні)\n",
      "be 49\n",
      "Skipping page Humber (homonymie)\n",
      "Skipping page Sigoyer\n",
      "Skipping page A51\n",
      "fr 47\n",
      "Skipping page Alaupović\n",
      "Skipping page Marcello Bertinetti\n",
      "Skipping page Illumination\n",
      "Skipping page Amory Houghton\n",
      "Skipping page Paul Demiéville\n",
      "Skipping page Schmige\n",
      "de 44\n",
      "Skipping page Guardia Scozzese\n",
      "it 49\n",
      "Skipping page Уильям Виндзор\n",
      "Skipping page Тын\n",
      "ru 48\n",
      "\n",
      "Time passed:  12.45 min\n"
     ]
    }
   ],
   "source": [
    "wiki_texts_test = get_texts(langs, 50)"
   ]
  },
  {
   "cell_type": "code",
   "execution_count": 13,
   "metadata": {
    "collapsed": true
   },
   "outputs": [],
   "source": [
    "def predict_lang(filename):\n",
    "    return lang_det_1(text), lang_det_2(text)"
   ]
  },
  {
   "cell_type": "code",
   "execution_count": 17,
   "metadata": {},
   "outputs": [],
   "source": [
    "from sklearn.metrics import classification_report, confusion_matrix\n",
    "\n",
    "def metr():\n",
    "    global wiki_texts_test\n",
    "    true_labels = []\n",
    "    predicted_labels_1 = []\n",
    "    predicted_labels_2 = []\n",
    "\n",
    "    for lang in wiki_texts_test:\n",
    "        for text in wiki_texts_test[lang]:\n",
    "            true_labels.append(lang)\n",
    "            \n",
    "            pred_1 = lang_det_1(text)\n",
    "            predicted_labels_1.append(pred_1)\n",
    "            \n",
    "            pred_2 = lang_det_2(text)\n",
    "            predicted_labels_2.append(pred_2)\n",
    "            \n",
    "    return true_labels, predicted_labels_1, predicted_labels_2"
   ]
  },
  {
   "cell_type": "code",
   "execution_count": 18,
   "metadata": {},
   "outputs": [],
   "source": [
    "true_labels, predicted_labels_1, predicted_labels_2 = metr()"
   ]
  },
  {
   "cell_type": "code",
   "execution_count": 19,
   "metadata": {},
   "outputs": [
    {
     "name": "stdout",
     "output_type": "stream",
     "text": [
      "             precision    recall  f1-score   support\n",
      "\n",
      "         be       0.98      0.98      0.98        49\n",
      "         de       1.00      1.00      1.00        44\n",
      "         fr       1.00      1.00      1.00        47\n",
      "         it       1.00      1.00      1.00        49\n",
      "         kk       0.89      1.00      0.94        50\n",
      "         ru       0.98      0.96      0.97        48\n",
      "         uk       1.00      0.89      0.94        46\n",
      "\n",
      "avg / total       0.98      0.98      0.98       333\n",
      "\n"
     ]
    }
   ],
   "source": [
    "print(classification_report(true_labels, predicted_labels_1))"
   ]
  },
  {
   "cell_type": "code",
   "execution_count": 20,
   "metadata": {},
   "outputs": [
    {
     "name": "stdout",
     "output_type": "stream",
     "text": [
      "             precision    recall  f1-score   support\n",
      "\n",
      "         be       1.00      1.00      1.00        49\n",
      "         de       1.00      1.00      1.00        44\n",
      "         fr       1.00      0.96      0.98        47\n",
      "         it       1.00      1.00      1.00        49\n",
      "         kk       1.00      1.00      1.00        50\n",
      "         ru       1.00      1.00      1.00        48\n",
      "         uk       0.96      1.00      0.98        46\n",
      "\n",
      "avg / total       0.99      0.99      0.99       333\n",
      "\n"
     ]
    }
   ],
   "source": [
    "print(classification_report(true_labels, predicted_labels_2))"
   ]
  },
  {
   "cell_type": "markdown",
   "metadata": {},
   "source": [
    "Более 'визуальный' вариант:"
   ]
  },
  {
   "cell_type": "code",
   "execution_count": 21,
   "metadata": {},
   "outputs": [],
   "source": [
    "import matplotlib.pyplot as plt\n",
    "import seaborn as sns\n",
    "\n",
    "def heatmap_res(predicted_labels):\n",
    "    global true_labels\n",
    "    labels = list(set(true_labels))\n",
    "    \n",
    "    fig, ax = plt.subplots()\n",
    "    sns.heatmap(data=confusion_matrix(true_labels, predicted_labels, labels = labels), annot = True,\n",
    "                fmt=\"d\", xticklabels=labels, yticklabels=labels, ax=ax)\n",
    "    plt.title(\"Confusion matrix\")\n",
    "    plt.show()"
   ]
  },
  {
   "cell_type": "code",
   "execution_count": 22,
   "metadata": {},
   "outputs": [
    {
     "data": {
      "image/png": "[encoded data removed]",
      "text/plain": [
       "<matplotlib.figure.Figure at 0x18689f2f8d0>"
      ]
     },
     "metadata": {},
     "output_type": "display_data"
    }
   ],
   "source": [
    "heatmap_res(predicted_labels_1)"
   ]
  },
  {
   "cell_type": "code",
   "execution_count": 23,
   "metadata": {},
   "outputs": [
    {
     "data": {
      "image/png": "[encoded data removed]",
      "text/plain": [
       "<matplotlib.figure.Figure at 0x1868ccffe80>"
      ]
     },
     "metadata": {},
     "output_type": "display_data"
    }
   ],
   "source": [
    "heatmap_res(predicted_labels_2)"
   ]
  },
  {
   "cell_type": "markdown",
   "metadata": {},
   "source": [
    "## Вывод:\n",
    "\n",
    "Второй метод показывает несколько лучшие результаты, чем первый.   \n",
    "Причем с увеличением размера частотного словаря (если мы возьмем более чем по 100 вхождений для каждого языка) качество для второго метода увеличивается незначительно, в то время как первый метод дает все более точные результаты. \n",
    "\n",
    "(Однако при очень малом количестве текстов для обучения, первый метод наоборот оказывается менее успешным.)"
   ]
  },
  {
   "cell_type": "code",
   "execution_count": 26,
   "metadata": {},
   "outputs": [
    {
     "name": "stdout",
     "output_type": "stream",
     "text": [
      "Первый метод: частотные слова\n",
      "              precision    recall  f1-score   support\n",
      "\n",
      "         be       1.00      1.00      1.00        49\n",
      "         de       1.00      1.00      1.00        44\n",
      "         fr       1.00      1.00      1.00        47\n",
      "         it       1.00      1.00      1.00        49\n",
      "         kk       1.00      1.00      1.00        50\n",
      "         ru       1.00      1.00      1.00        48\n",
      "         uk       1.00      1.00      1.00        46\n",
      "\n",
      "avg / total       1.00      1.00      1.00       333\n",
      "\n",
      "Второй метод: частотные символьные 3-граммы\n",
      "              precision    recall  f1-score   support\n",
      "\n",
      "         be       0.98      1.00      0.99        49\n",
      "         de       0.96      1.00      0.98        44\n",
      "         fr       0.98      0.98      0.98        47\n",
      "         it       0.98      0.96      0.97        49\n",
      "         kk       0.98      1.00      0.99        50\n",
      "         ru       0.96      0.96      0.96        48\n",
      "         uk       1.00      0.93      0.97        46\n",
      "\n",
      "avg / total       0.98      0.98      0.98       333\n",
      "\n"
     ]
    }
   ],
   "source": [
    "n_grams = create_ngrams_dict(300)\n",
    "words = create_dict(300)\n",
    "\n",
    "true_labels, predicted_labels_1, predicted_labels_2 = metr()\n",
    "\n",
    "print('Первый метод: частотные слова\\n', \n",
    "      classification_report(true_labels, predicted_labels_1))\n",
    "print('Второй метод: частотные символьные 3-граммы\\n',\n",
    "      classification_report(true_labels, predicted_labels_2))"
   ]
  },
  {
   "cell_type": "markdown",
   "metadata": {},
   "source": [
    "При использовании биграмм вместо триграмм качество заметно падает.  \n",
    "При использовании n-gram = 4 вместо n-gram = 3 качество также снизилось, хоть и незначительно.\n",
    "\n",
    "(параметры изменялись в самих кусках кода)"
   ]
  },
  {
   "cell_type": "code",
   "execution_count": 27,
   "metadata": {},
   "outputs": [
    {
     "name": "stdout",
     "output_type": "stream",
     "text": [
      "Второй метод: частотные символьные 2-граммы\n",
      "              precision    recall  f1-score   support\n",
      "\n",
      "         be       0.83      1.00      0.91        49\n",
      "         de       0.96      0.98      0.97        44\n",
      "         fr       1.00      0.81      0.89        47\n",
      "         it       0.91      1.00      0.95        49\n",
      "         kk       0.85      1.00      0.92        50\n",
      "         ru       0.98      0.85      0.91        48\n",
      "         uk       0.92      0.72      0.80        46\n",
      "\n",
      "avg / total       0.92      0.91      0.91       333\n",
      "\n"
     ]
    }
   ],
   "source": [
    "n_grams = create_ngrams_dict(100)\n",
    "\n",
    "true_labels, predicted_labels_1, predicted_labels_2 = metr()\n",
    "\n",
    "print('Второй метод: частотные символьные 2-граммы\\n',\n",
    "      classification_report(true_labels, predicted_labels_2))"
   ]
  },
  {
   "cell_type": "code",
   "execution_count": 29,
   "metadata": {},
   "outputs": [
    {
     "name": "stdout",
     "output_type": "stream",
     "text": [
      "Второй метод: частотные символьные 4-граммы\n",
      "              precision    recall  f1-score   support\n",
      "\n",
      "         be       1.00      0.98      0.99        49\n",
      "         de       1.00      1.00      1.00        44\n",
      "         fr       1.00      0.96      0.98        47\n",
      "         it       1.00      1.00      1.00        49\n",
      "         kk       0.98      1.00      0.99        50\n",
      "         ru       1.00      1.00      1.00        48\n",
      "         uk       0.96      1.00      0.98        46\n",
      "\n",
      "avg / total       0.99      0.99      0.99       333\n",
      "\n"
     ]
    }
   ],
   "source": [
    "n_grams = create_ngrams_dict(100)\n",
    "\n",
    "true_labels, predicted_labels_1, predicted_labels_2 = metr()\n",
    "\n",
    "print('Второй метод: частотные символьные 4-граммы\\n',\n",
    "      classification_report(true_labels, predicted_labels_2))"
   ]
  }
 ],
 "metadata": {
  "anaconda-cloud": {},
  "kernelspec": {
   "display_name": "Python 3",
   "language": "python",
   "name": "python3"
  },
  "language_info": {
   "codemirror_mode": {
    "name": "ipython",
    "version": 3
   },
   "file_extension": ".py",
   "mimetype": "text/x-python",
   "name": "python",
   "nbconvert_exporter": "python",
   "pygments_lexer": "ipython3",
   "version": "3.6.1"
  }
 },
 "nbformat": 4,
 "nbformat_minor": 1
}
